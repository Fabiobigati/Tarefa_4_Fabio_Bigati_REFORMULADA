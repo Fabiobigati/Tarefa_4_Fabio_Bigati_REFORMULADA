{
  "nbformat": 4,
  "nbformat_minor": 0,
  "metadata": {
    "colab": {
      "name": "Tarefa 4.ipynb",
      "provenance": []
    },
    "kernelspec": {
      "name": "python3",
      "display_name": "Python 3"
    },
    "language_info": {
      "name": "python"
    }
  },
  "cells": [
    {
      "cell_type": "code",
      "execution_count": 1,
      "metadata": {
        "id": "YVc24awF7ISz"
      },
      "outputs": [],
      "source": [
        "from sklearn import datasets\n",
        "from sklearn.decomposition import PCA"
      ]
    },
    {
      "cell_type": "code",
      "source": [
        "iris = datasets.load_iris()\n",
        "X = iris.data[:, :2]\n",
        "y = iris.target\n"
      ],
      "metadata": {
        "id": "CeOcjOGR765B"
      },
      "execution_count": 2,
      "outputs": []
    },
    {
      "cell_type": "code",
      "source": [
        "from sklearn.metrics import mean_squared_error, make_scorer\n",
        "from sklearn.model_selection import cross_validate\n",
        "from sklearn.neighbors import KNeighborsRegressor\n",
        "import numpy as np"
      ],
      "metadata": {
        "id": "6NwoH0hY7_WE"
      },
      "execution_count": 3,
      "outputs": []
    },
    {
      "cell_type": "code",
      "source": [
        "modelo = KNeighborsRegressor()\n",
        "scores = cross_validate(modelo, X, y, scoring=make_scorer(mean_squared_error, squared=False))\n",
        "print(scores['test_score'])\n",
        "print(scores)\n",
        "sempad = np.mean(scores['test_score'])\n",
        "print(f\"Sem padronização: {sempad}\")"
      ],
      "metadata": {
        "colab": {
          "base_uri": "https://localhost:8080/"
        },
        "id": "2_EPKV258CNf",
        "outputId": "40233b97-ee7e-4cdc-d2f6-0a149a7930af"
      },
      "execution_count": 4,
      "outputs": [
        {
          "output_type": "stream",
          "name": "stdout",
          "text": [
            "[0.06324555 0.45607017 0.67330033 0.51510517 0.69761498]\n",
            "{'fit_time': array([0.0015254 , 0.00048161, 0.0004406 , 0.00043941, 0.00042582]), 'score_time': array([0.00178027, 0.00077367, 0.00073314, 0.00073361, 0.000705  ]), 'test_score': array([0.06324555, 0.45607017, 0.67330033, 0.51510517, 0.69761498])}\n",
            "Sem padronização: 0.48106724085424457\n"
          ]
        }
      ]
    },
    {
      "cell_type": "code",
      "source": [
        "from sklearn.model_selection import GridSearchCV\n",
        "\n",
        "parametros = {'n_neighbors': [1,3,5]}\n",
        "\n",
        "modelo = GridSearchCV(KNeighborsRegressor(), parametros, scoring=make_scorer(mean_squared_error, greater_is_better=False, squared=False))\n",
        "modelo.fit(X, y)"
      ],
      "metadata": {
        "colab": {
          "base_uri": "https://localhost:8080/"
        },
        "id": "H8ohdbTz8GGD",
        "outputId": "cdad0e3d-4553-43de-bc2f-b6697632729c"
      },
      "execution_count": 7,
      "outputs": [
        {
          "output_type": "execute_result",
          "data": {
            "text/plain": [
              "GridSearchCV(estimator=KNeighborsRegressor(),\n",
              "             param_grid={'n_neighbors': [1, 3, 5]},\n",
              "             scoring=make_scorer(mean_squared_error, greater_is_better=False, squared=False))"
            ]
          },
          "metadata": {},
          "execution_count": 7
        }
      ]
    },
    {
      "cell_type": "code",
      "source": [
        "modelo.cv_results_\n"
      ],
      "metadata": {
        "colab": {
          "base_uri": "https://localhost:8080/"
        },
        "id": "zay7mkJ08KDA",
        "outputId": "160e32c9-34c5-42cf-c2a3-73a2b722c1b8"
      },
      "execution_count": 8,
      "outputs": [
        {
          "output_type": "execute_result",
          "data": {
            "text/plain": [
              "{'mean_fit_time': array([0.00079308, 0.00070238, 0.00081921]),\n",
              " 'mean_score_time': array([0.00124578, 0.00119901, 0.00126863]),\n",
              " 'mean_test_score': array([-0.58169526, -0.50369031, -0.48106724]),\n",
              " 'param_n_neighbors': masked_array(data=[1, 3, 5],\n",
              "              mask=[False, False, False],\n",
              "        fill_value='?',\n",
              "             dtype=object),\n",
              " 'params': [{'n_neighbors': 1}, {'n_neighbors': 3}, {'n_neighbors': 5}],\n",
              " 'rank_test_score': array([3, 2, 1], dtype=int32),\n",
              " 'split0_test_score': array([-0.        , -0.        , -0.06324555]),\n",
              " 'split1_test_score': array([-0.57735027, -0.50184844, -0.45607017]),\n",
              " 'split2_test_score': array([-0.85634884, -0.75767676, -0.67330033]),\n",
              " 'split3_test_score': array([-0.65828059, -0.55444333, -0.51510517]),\n",
              " 'split4_test_score': array([-0.81649658, -0.704483  , -0.69761498]),\n",
              " 'std_fit_time': array([1.10077070e-04, 3.39017471e-05, 1.31151111e-04]),\n",
              " 'std_score_time': array([1.73104788e-04, 1.65885815e-04, 9.37227043e-05]),\n",
              " 'std_test_score': array([0.30816224, 0.26874152, 0.22812491])}"
            ]
          },
          "metadata": {},
          "execution_count": 8
        }
      ]
    },
    {
      "cell_type": "code",
      "source": [
        "modelo.best_estimator_\n"
      ],
      "metadata": {
        "colab": {
          "base_uri": "https://localhost:8080/"
        },
        "id": "162Gg2gR8Vwd",
        "outputId": "12cf73ff-d23b-4dea-9781-770659ae6f57"
      },
      "execution_count": 9,
      "outputs": [
        {
          "output_type": "execute_result",
          "data": {
            "text/plain": [
              "KNeighborsRegressor()"
            ]
          },
          "metadata": {},
          "execution_count": 9
        }
      ]
    },
    {
      "cell_type": "code",
      "source": [
        "from sklearn.metrics import mean_squared_error\n",
        "from math import sqrt\n",
        "\n",
        "ypred = modelo.predict(X)\n",
        "mse = mean_squared_error(y, ypred)\n",
        "sqrt(mse)"
      ],
      "metadata": {
        "colab": {
          "base_uri": "https://localhost:8080/"
        },
        "id": "vP-xuxDz8Znd",
        "outputId": "c328ca6f-4165-4fe5-a966-4e0cdda72e02"
      },
      "execution_count": 10,
      "outputs": [
        {
          "output_type": "execute_result",
          "data": {
            "text/plain": [
              "0.3278210894171799"
            ]
          },
          "metadata": {},
          "execution_count": 10
        }
      ]
    },
    {
      "cell_type": "code",
      "source": [
        "scores = cross_validate(modelo, X, y, scoring=make_scorer(mean_squared_error, squared=False), return_estimator=True)\n",
        "print(scores['test_score'])\n",
        "sempad = np.mean(scores['test_score'])\n",
        "print(f\"Sem padronização: {sempad}\")"
      ],
      "metadata": {
        "colab": {
          "base_uri": "https://localhost:8080/"
        },
        "id": "TKMFvHaP8b1u",
        "outputId": "c4b1c27f-d4bf-4beb-91d7-07e0cbe8cd64"
      },
      "execution_count": 11,
      "outputs": [
        {
          "output_type": "stream",
          "name": "stdout",
          "text": [
            "[0.06324555 0.45607017 0.67330033 0.51510517 0.69761498]\n",
            "Sem padronização: 0.48106724085424457\n"
          ]
        }
      ]
    },
    {
      "cell_type": "code",
      "source": [
        "scores"
      ],
      "metadata": {
        "colab": {
          "base_uri": "https://localhost:8080/"
        },
        "id": "WFLSresZ8eCY",
        "outputId": "b0c086b9-ccd0-4d5e-e088-0495a25eae99"
      },
      "execution_count": 12,
      "outputs": [
        {
          "output_type": "execute_result",
          "data": {
            "text/plain": [
              "{'estimator': [GridSearchCV(estimator=KNeighborsRegressor(),\n",
              "               param_grid={'n_neighbors': [1, 3, 5]},\n",
              "               scoring=make_scorer(mean_squared_error, greater_is_better=False, squared=False)),\n",
              "  GridSearchCV(estimator=KNeighborsRegressor(),\n",
              "               param_grid={'n_neighbors': [1, 3, 5]},\n",
              "               scoring=make_scorer(mean_squared_error, greater_is_better=False, squared=False)),\n",
              "  GridSearchCV(estimator=KNeighborsRegressor(),\n",
              "               param_grid={'n_neighbors': [1, 3, 5]},\n",
              "               scoring=make_scorer(mean_squared_error, greater_is_better=False, squared=False)),\n",
              "  GridSearchCV(estimator=KNeighborsRegressor(),\n",
              "               param_grid={'n_neighbors': [1, 3, 5]},\n",
              "               scoring=make_scorer(mean_squared_error, greater_is_better=False, squared=False)),\n",
              "  GridSearchCV(estimator=KNeighborsRegressor(),\n",
              "               param_grid={'n_neighbors': [1, 3, 5]},\n",
              "               scoring=make_scorer(mean_squared_error, greater_is_better=False, squared=False))],\n",
              " 'fit_time': array([0.05705619, 0.03941774, 0.04042101, 0.0395484 , 0.04052854]),\n",
              " 'score_time': array([0.00123739, 0.00122762, 0.00137734, 0.00136423, 0.00123763]),\n",
              " 'test_score': array([0.06324555, 0.45607017, 0.67330033, 0.51510517, 0.69761498])}"
            ]
          },
          "metadata": {},
          "execution_count": 12
        }
      ]
    },
    {
      "cell_type": "code",
      "source": [
        "for estimator in scores['estimator']:\n",
        "    print(estimator.best_estimator_)"
      ],
      "metadata": {
        "colab": {
          "base_uri": "https://localhost:8080/"
        },
        "id": "sK6UxskZ8hZI",
        "outputId": "2c5aea19-6825-4a58-b33e-b3f38ef35545"
      },
      "execution_count": 13,
      "outputs": [
        {
          "output_type": "stream",
          "name": "stdout",
          "text": [
            "KNeighborsRegressor()\n",
            "KNeighborsRegressor()\n",
            "KNeighborsRegressor()\n",
            "KNeighborsRegressor()\n",
            "KNeighborsRegressor()\n"
          ]
        }
      ]
    },
    {
      "cell_type": "code",
      "source": [
        "from sklearn.preprocessing import StandardScaler\n",
        "from sklearn.pipeline import Pipeline\n",
        "\n",
        "parametros = {'n_neighbors': [7 ,9 ,11 ,13]}\n",
        "\n",
        "GridSearchKNN = GridSearchCV(KNeighborsRegressor(), parametros, scoring='neg_root_mean_squared_error')\n",
        "\n",
        "modelo = Pipeline([\n",
        "    (\"padronização\", StandardScaler()),\n",
        "    (\"gsknn\", GridSearchKNN)\n",
        "])\n",
        "scores = cross_validate(modelo, X, y, scoring=make_scorer(mean_squared_error, squared=False))\n",
        "print(scores['test_score'])\n",
        "compad = np.mean(scores['test_score'])\n",
        "print(f\"Com padronização: {compad}\")"
      ],
      "metadata": {
        "colab": {
          "base_uri": "https://localhost:8080/"
        },
        "id": "kPe--dRu8jSx",
        "outputId": "11feab8d-cc7f-45eb-baf2-1d378f9275b6"
      },
      "execution_count": 14,
      "outputs": [
        {
          "output_type": "stream",
          "name": "stdout",
          "text": [
            "[0.0451754  0.44262667 0.62324584 0.50776287 0.69891156]\n",
            "Com padronização: 0.46354446526594284\n"
          ]
        }
      ]
    },
    {
      "cell_type": "code",
      "source": [
        "pipeline = Pipeline([\n",
        "    (\"padronização\", StandardScaler()),\n",
        "    (\"knn\", KNeighborsRegressor())\n",
        "])\n",
        "\n",
        "parametros = {'knn__n_neighbors': [7,9,11, 13]}\n",
        "\n",
        "modelo = GridSearchCV(pipeline, parametros, scoring='neg_root_mean_squared_error')\n",
        "\n",
        "scores = cross_validate(modelo, X, y, scoring=make_scorer(mean_squared_error, squared=False))\n",
        "print(scores['test_score'])\n",
        "compad = np.mean(scores['test_score'])\n",
        "print(f\"Com padronização: {compad}\")"
      ],
      "metadata": {
        "colab": {
          "base_uri": "https://localhost:8080/"
        },
        "id": "TIfxKIZW8mTy",
        "outputId": "217a0173-af77-4426-b088-82a3b0da7ccb"
      },
      "execution_count": 15,
      "outputs": [
        {
          "output_type": "stream",
          "name": "stdout",
          "text": [
            "[0.0451754  0.44262667 0.63440455 0.50776287 0.68263196]\n",
            "Com padronização: 0.4625202887734445\n"
          ]
        }
      ]
    }
  ]
}